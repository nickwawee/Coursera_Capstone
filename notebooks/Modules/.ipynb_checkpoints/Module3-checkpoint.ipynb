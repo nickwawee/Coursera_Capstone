{
 "cells": [
  {
   "cell_type": "code",
   "execution_count": 1,
   "metadata": {},
   "outputs": [],
   "source": [
    "import pandas as pd\n",
    "import urllib.request\n",
    "from bs4 import BeautifulSoup"
   ]
  },
  {
   "cell_type": "markdown",
   "metadata": {},
   "source": [
    "The cell below obtains all the data from the wikipedia page, turns it into readable content (soup), and subsets the content to select the information within the table via finding the \"wikitable sortable\" class."
   ]
  },
  {
   "cell_type": "code",
   "execution_count": 4,
   "metadata": {},
   "outputs": [],
   "source": [
    "curPage = \"https://en.wikipedia.org/wiki/List_of_postal_codes_of_Canada:_M\"\n",
    "curPageContent = urllib.request.urlopen(curPage).read()#retrieves page content\n",
    "soup = BeautifulSoup(curPageContent)#turns it into soup\n",
    "tbl= soup.find_all(class_=\"wikitable sortable\")"
   ]
  },
  {
   "cell_type": "markdown",
   "metadata": {},
   "source": [
    "The code below makes a list of rows within the table. It also eliminates the first and last element in the table so that only the pertinent information is selected when looping through. "
   ]
  },
  {
   "cell_type": "code",
   "execution_count": 68,
   "metadata": {},
   "outputs": [],
   "source": [
    "tbl_ls = str(tbl).split(\"</tr>\")#narrows down each row of table\n",
    "del tbl_ls[0]#removes first heading element\n",
    "del tbl_ls[180]#removes last element"
   ]
  },
  {
   "cell_type": "markdown",
   "metadata": {},
   "source": [
    "The cell below loops through each row and appends the desired information. It ignores the boroughs which are unassigned and makes the neighborhood the borough name if the neighborhood is unassigned. "
   ]
  },
  {
   "cell_type": "code",
   "execution_count": 84,
   "metadata": {},
   "outputs": [],
   "source": [
    "df = pd.DataFrame(columns = ['Postal Code', 'Borough', 'Neighborhood'])\n",
    "\n",
    "for i, row in enumerate(tbl_ls):\n",
    "    p = row.split(\"<td>\")[1].split(\"\\n\")[0]#postal code\n",
    "    b = row.split(\"\\n\")[4].split(\">\")[1]#borough\n",
    "    n = row.split(\"\\n\")[6].split(\">\")[1]#neighborhood\n",
    "    if b != \"Not assigned\":\n",
    "        if n == \"Not assigned\":\n",
    "            n = b\n",
    "        dfa = pd.DataFrame({'Postal Code': [p], 'Borough': [b], 'Neighborhood': [n]})\n",
    "        df = df.append(dfa)\n",
    "\n",
    "df = df.reset_index(drop=True)"
   ]
  },
  {
   "cell_type": "code",
   "execution_count": 86,
   "metadata": {},
   "outputs": [
    {
     "name": "stdout",
     "output_type": "stream",
     "text": [
      "103\n"
     ]
    }
   ],
   "source": [
    "print(df.shape[0])"
   ]
  }
 ],
 "metadata": {
  "kernelspec": {
   "display_name": "Python 3",
   "language": "python",
   "name": "python3"
  },
  "language_info": {
   "codemirror_mode": {
    "name": "ipython",
    "version": 3
   },
   "file_extension": ".py",
   "mimetype": "text/x-python",
   "name": "python",
   "nbconvert_exporter": "python",
   "pygments_lexer": "ipython3",
   "version": "3.8.3"
  }
 },
 "nbformat": 4,
 "nbformat_minor": 4
}
