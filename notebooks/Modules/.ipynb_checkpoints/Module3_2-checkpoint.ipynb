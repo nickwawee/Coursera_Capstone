{
 "cells": [
  {
   "cell_type": "code",
   "execution_count": 18,
   "metadata": {},
   "outputs": [],
   "source": [
    "import pandas as pd\n",
    "import geocoder"
   ]
  },
  {
   "cell_type": "code",
   "execution_count": 19,
   "metadata": {},
   "outputs": [],
   "source": [
    "df = pd.read_csv(\"../../data/scraped.csv\")\n",
    "df2 = pd.read_csv(\"https://cocl.us/Geospatial_data\")"
   ]
  },
  {
   "cell_type": "code",
   "execution_count": 20,
   "metadata": {},
   "outputs": [],
   "source": [
    "dfnew = pd.DataFrame(columns = ['PostalCode', 'Borough', 'Neighborhood', 'Latitude', \"Longitude\"])\n",
    "for i, code in enumerate(df['Postal Code']):\n",
    "    for j, geo_code in enumerate(df2['Postal Code']):\n",
    "        if geo_code == code:\n",
    "            #print(df['Borough'].iloc[i])\n",
    "            dfa = pd.DataFrame({'PostalCode': [code], \"Borough\": [df['Borough'].iloc[i]],\\\n",
    "                                \"Neighborhood\": [df['Neighborhood'].iloc[i]], \\\n",
    "                                \"Latitude\": [df2['Latitude'].iloc[j]], \"Longitude\": [df2['Longitude'].iloc[j]],})\n",
    "            dfnew = dfnew.append(dfa)\n",
    "dfnew = dfnew.reset_index(drop = True)"
   ]
  },
  {
   "cell_type": "code",
   "execution_count": 21,
   "metadata": {},
   "outputs": [],
   "source": [
    "dfnew.to_csv(\"../../data/scraped_geo.csv\")"
   ]
  }
 ],
 "metadata": {
  "kernelspec": {
   "display_name": "Python 3",
   "language": "python",
   "name": "python3"
  },
  "language_info": {
   "codemirror_mode": {
    "name": "ipython",
    "version": 3
   },
   "file_extension": ".py",
   "mimetype": "text/x-python",
   "name": "python",
   "nbconvert_exporter": "python",
   "pygments_lexer": "ipython3",
   "version": "3.8.3"
  }
 },
 "nbformat": 4,
 "nbformat_minor": 4
}
